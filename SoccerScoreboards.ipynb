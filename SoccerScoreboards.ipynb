{
 "cells": [
  {
   "cell_type": "markdown",
   "metadata": {},
   "source": [
    "# Scoreboard\n",
    "\n",
    "This is the Python code that produces a scoreboard for each week of the Premier League season, adjusted using a slider."
   ]
  },
  {
   "cell_type": "markdown",
   "metadata": {},
   "source": [
    "## Code\n",
    "\n"
   ]
  },
  {
   "cell_type": "code",
   "execution_count": null,
   "metadata": {},
   "outputs": [],
   "source": [
    "#| label: scoreboard\n",
    "\n",
    "import pandas as pd\n",
    "import matplotlib.pyplot as plt\n",
    "from ipywidgets import interact, IntSlider\n",
    "\n",
    "# Read the CSV file into a DataFrame\n",
    "data = pd.read_csv(\"englander.csv\")\n",
    "\n",
    "# Define a function to display selected columns for a given game week\n",
    "def display_selected_columns(game_week_number):\n",
    "    # Filter the data for the selected game week\n",
    "    matchweek = data[data[\"Game Week\"] == game_week_number]\n",
    "\n",
    "    # Display selected columns for the current week\n",
    "    selected_columns = [\"date_GMT\", \"home_team_name\", \"home_team_goal_count\", \"away_team_goal_count\", \"away_team_name\", \"referee\", \"stadium_name\"]\n",
    "    matchweek_selected = matchweek[selected_columns]\n",
    "    \n",
    "    # Display the selected data\n",
    "    display(matchweek_selected)\n",
    "\n",
    "# Create an IntSlider widget for game week selection\n",
    "game_week_slider = IntSlider(\n",
    "    description=\"Select game week (1-38):\",\n",
    "    value=7,\n",
    "    min=1,\n",
    "    max=38,\n",
    "    step=1,\n",
    "    continuous_update=False  # Set to True for continuous updates\n",
    ")\n",
    "\n",
    "# Use interact to display the selected columns in real-time\n",
    "interact(display_selected_columns, game_week_number=game_week_slider)"
   ]
  }
 ],
 "metadata": {
  "kernelspec": {
   "display_name": "Python 3 (ipykernel)",
   "language": "python",
   "name": "python3"
  },
  "language_info": {
   "codemirror_mode": {
    "name": "ipython",
    "version": 3
   },
   "file_extension": ".py",
   "mimetype": "text/x-python",
   "name": "python",
   "nbconvert_exporter": "python",
   "pygments_lexer": "ipython3",
   "version": "3.12.1"
  },
  "vscode": {
   "interpreter": {
    "hash": "d7b89e158b719c02a21186c9646700ecf5a8cc5b1b6f738df9b6ffa75e5e74e4"
   }
  }
 },
 "nbformat": 4,
 "nbformat_minor": 4
}
